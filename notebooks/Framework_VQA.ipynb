{
  "cells": [
    {
      "cell_type": "code",
      "source": [
        "!git clone https://github.com/miohana/vqa-llm-framework.git"
      ],
      "metadata": {
        "colab": {
          "base_uri": "https://localhost:8080/"
        },
        "id": "NxW8Nsaqc0Pp",
        "outputId": "96dc0106-da37-458d-d435-f4706ffab1a7"
      },
      "execution_count": 1,
      "outputs": [
        {
          "output_type": "stream",
          "name": "stdout",
          "text": [
            "fatal: destination path 'vqa-llm-framework' already exists and is not an empty directory.\n"
          ]
        }
      ]
    },
    {
      "cell_type": "code",
      "execution_count": null,
      "metadata": {
        "id": "S8p1s1PP7PSy"
      },
      "outputs": [],
      "source": [
        "!pip install langchain openai langchain_openai datasets evaluate transformers -q"
      ]
    },
    {
      "cell_type": "code",
      "source": [
        "from google.colab import userdata"
      ],
      "metadata": {
        "id": "hqPdeXEWwViv"
      },
      "execution_count": 18,
      "outputs": []
    },
    {
      "cell_type": "code",
      "source": [
        "import os\n",
        "os.environ[\"OPENAI_API_KEY\"] = userdata.get('OPENAI_API_KEY')"
      ],
      "metadata": {
        "id": "QYdMzVGNwQlJ"
      },
      "execution_count": 19,
      "outputs": []
    },
    {
      "cell_type": "code",
      "source": [
        "import pandas as pd\n",
        "from datasets import load_dataset\n",
        "\n",
        "class DatasetLoader:\n",
        "    def __init__(self, eval_questions_path, vqa_eval_path):\n",
        "        self.eval_questions_path = eval_questions_path\n",
        "        self.vqa_eval_path = vqa_eval_path\n",
        "\n",
        "    def load_data(self):\n",
        "        self.coco_eval_questions = pd.read_json(self.eval_questions_path).head(5)\n",
        "        self.vqa_eval = pd.read_json(self.vqa_eval_path).head(5)\n",
        "\n",
        "        return self.coco_eval_questions, self.vqa_eval"
      ],
      "metadata": {
        "id": "WI074zMStzV-"
      },
      "execution_count": 40,
      "outputs": []
    },
    {
      "cell_type": "code",
      "source": [
        "from transformers import AutoProcessor, PaliGemmaForConditionalGeneration\n",
        "from PIL import Image\n",
        "import requests\n",
        "import torch\n",
        "\n",
        "class ResponseGenerator:\n",
        "    def __init__(self, model_id=\"google/paligemma-3b-mix-224\"):\n",
        "        self.model = PaliGemmaForConditionalGeneration.from_pretrained(model_id).eval()\n",
        "        self.processor = AutoProcessor.from_pretrained(model_id)\n",
        "\n",
        "    def generate_response(self, question: str, image_url: str):\n",
        "        image = Image.open(requests.get(image_url, stream=True).raw)\n",
        "        model_inputs = self.processor(text=question, images=image, return_tensors=\"pt\")\n",
        "        input_len = model_inputs[\"input_ids\"].shape[-1]\n",
        "\n",
        "        with torch.inference_mode():\n",
        "            generation = self.model.generate(**model_inputs, max_new_tokens=100, do_sample=False)\n",
        "            generation = generation[0][input_len:]\n",
        "            response = self.processor.decode(generation, skip_special_tokens=True)\n",
        "            print(response)\n",
        "        return response"
      ],
      "metadata": {
        "id": "HwL5uoLDt1dH"
      },
      "execution_count": 38,
      "outputs": []
    },
    {
      "cell_type": "code",
      "source": [
        "from evaluate import load\n",
        "from langchain_openai import OpenAIEmbeddings\n",
        "from scipy.spatial.distance import cosine\n",
        "import numpy as np\n",
        "\n",
        "class MetricEvaluator:\n",
        "    def __init__(self):\n",
        "        self.squad_metric = load(\"squad\")\n",
        "        self.embeddings_model = OpenAIEmbeddings(model=\"text-embedding-ada-002\")\n",
        "\n",
        "    def compute_standard_metrics(self, references, predictions):\n",
        "        print(references)\n",
        "        print(predictions)\n",
        "        results = self.squad_metric.compute(predictions=predictions, references=references)\n",
        "        f1_score = results[\"f1\"]\n",
        "        exact_match = results[\"exact_match\"]\n",
        "        return {\"f1_score\": f1_score, \"exact_match\": exact_match}\n",
        "\n",
        "    def compute_semantic_metrics(self, references, predictions):\n",
        "        similarities = []\n",
        "        for ref, pred in zip(references, predictions):\n",
        "            ref_embedding = self.embeddings_model.embed_query(ref[\"answers\"][0][\"text\"])\n",
        "            pred_embedding = self.embeddings_model.embed_query(pred[\"prediction_text\"])\n",
        "            similarity = 1 - cosine(ref_embedding, pred_embedding)\n",
        "            similarities.append(similarity)\n",
        "        avg_similarity = np.mean(similarities)\n",
        "        return {\"semantic_similarity\": avg_similarity}\n",
        "\n",
        "    def evaluate(self, references, predictions):\n",
        "        standard_metrics = self.compute_standard_metrics(references, predictions)\n",
        "        #semantic_metrics = self.compute_semantic_metrics(references, predictions)\n",
        "        #return {\"standard_metrics\": standard_metrics, \"semantic_metrics\": semantic_metrics}\n",
        "        return {\"standard_metrics\": standard_metrics}\n"
      ],
      "metadata": {
        "id": "qlfxWzSXt3XI"
      },
      "execution_count": 53,
      "outputs": []
    },
    {
      "cell_type": "code",
      "source": [
        "def main(eval_questions_path, vqa_eval_path):\n",
        "    loader = DatasetLoader(eval_questions_path, vqa_eval_path)\n",
        "    coco_eval_questions, vqa_eval = loader.load_data()\n",
        "\n",
        "    response_generator = ResponseGenerator(model_id=\"google/paligemma-3b-mix-224\")\n",
        "\n",
        "    predictions = []\n",
        "    references = []\n",
        "\n",
        "    for index, row in vqa_eval.iterrows():\n",
        "        question = row[\"question\"]\n",
        "        reference_answer = row[\"multiple_choice_answer\"]\n",
        "        image_url = row[\"url\"]\n",
        "\n",
        "        response = response_generator.generate_response(question, image_url)\n",
        "\n",
        "        # Adicionar id, prediction_text e answer_start aos campos\n",
        "        predictions.append({\"id\": str(row[\"id\"]), \"prediction_text\": response})\n",
        "        references.append({\n",
        "            \"id\": str(row[\"id\"]),\n",
        "            \"answers\": [{\"text\": reference_answer, \"answer_start\": 0}]\n",
        "        })\n",
        "\n",
        "    evaluator = MetricEvaluator()\n",
        "    metrics = evaluator.evaluate(references, predictions)\n",
        "\n",
        "    print(\"Standard Metrics (F1, Exact Match):\")\n",
        "    print(f\"F1 Score: {metrics['standard_metrics']['f1_score']:.2f}\")\n",
        "    print(f\"Exact Match: {metrics['standard_metrics']['exact_match']:.2f}\")\n",
        "\n",
        "    #print(\"\\nSemantic Metrics:\")\n",
        "    #print(f\"Semantic Similarity: {metrics['semantic_metrics']['semantic_similarity']:.2f}\")\n"
      ],
      "metadata": {
        "id": "0hqGpZ0mt6cB"
      },
      "execution_count": 60,
      "outputs": []
    },
    {
      "cell_type": "code",
      "source": [
        "eval_questions_path = \"/content/vqa-llm-framework/data/coco-eval-questions.json\"\n",
        "vqa_eval_path = \"/content/vqa-llm-framework/data/vqa-eval.json\"\n",
        "\n",
        "main(eval_questions_path, vqa_eval_path)"
      ],
      "metadata": {
        "colab": {
          "base_uri": "https://localhost:8080/",
          "height": 283,
          "referenced_widgets": [
            "894f783f0bc24820a2ba49fd278a4e27",
            "cf5cfe6ca9a04682891c44f1e0c5358d",
            "55fb2fe2ff1f4c9e92f6c9bbd3881bd5",
            "323a87288892409ea6fa979e7c8add73",
            "7761c2026f5e42fc9c021aac180401c6",
            "c83e22a3d22b4278b7b9a21c4b3e6b74",
            "38b1028e23a7440fbb287b51527bdf98",
            "b0598d5d8c214b14a6a6c06b9e0db4c2",
            "76a914de52334a6e826b5056cbeae348",
            "cd44f4fec8664c668221ad40d41743cc",
            "b2fa0d4e9dd548099cefe8a105310364"
          ]
        },
        "id": "dlVRSoOxt8DB",
        "outputId": "0aa95bb8-fee6-4c57-b62a-5e033450144b"
      },
      "execution_count": 61,
      "outputs": [
        {
          "output_type": "stream",
          "name": "stderr",
          "text": [
            "/usr/local/lib/python3.10/dist-packages/transformers/models/paligemma/configuration_paligemma.py:137: FutureWarning: The `vocab_size` attribute is deprecated and will be removed in v4.44, Please use `text_config.vocab_size` instead.\n",
            "  warnings.warn(\n"
          ]
        },
        {
          "output_type": "display_data",
          "data": {
            "text/plain": [
              "Loading checkpoint shards:   0%|          | 0/3 [00:00<?, ?it/s]"
            ],
            "application/vnd.jupyter.widget-view+json": {
              "version_major": 2,
              "version_minor": 0,
              "model_id": "894f783f0bc24820a2ba49fd278a4e27"
            }
          },
          "metadata": {}
        },
        {
          "output_type": "stream",
          "name": "stdout",
          "text": [
            "6\n",
            "yes\n",
            "brown\n",
            "yes\n",
            "yes\n",
            "[{'id': '293832', 'answers': [{'text': '5', 'answer_start': 0}]}, {'id': '129592', 'answers': [{'text': 'yes', 'answer_start': 0}]}, {'id': '13729', 'answers': [{'text': 'brown', 'answer_start': 0}]}, {'id': '379086', 'answers': [{'text': 'yes', 'answer_start': 0}]}, {'id': '96618', 'answers': [{'text': 'yes', 'answer_start': 0}]}]\n",
            "[{'id': '293832', 'prediction_text': '6'}, {'id': '129592', 'prediction_text': 'yes'}, {'id': '13729', 'prediction_text': 'brown'}, {'id': '379086', 'prediction_text': 'yes'}, {'id': '96618', 'prediction_text': 'yes'}]\n",
            "Standard Metrics (F1, Exact Match):\n",
            "F1 Score: 80.00\n",
            "Exact Match: 80.00\n"
          ]
        }
      ]
    }
  ],
  "metadata": {
    "colab": {
      "provenance": [],
      "gpuType": "A100",
      "machine_shape": "hm"
    },
    "kernelspec": {
      "display_name": "Python 3",
      "name": "python3"
    },
    "language_info": {
      "name": "python"
    },
    "accelerator": "GPU",
    "widgets": {
      "application/vnd.jupyter.widget-state+json": {
        "894f783f0bc24820a2ba49fd278a4e27": {
          "model_module": "@jupyter-widgets/controls",
          "model_name": "HBoxModel",
          "model_module_version": "1.5.0",
          "state": {
            "_dom_classes": [],
            "_model_module": "@jupyter-widgets/controls",
            "_model_module_version": "1.5.0",
            "_model_name": "HBoxModel",
            "_view_count": null,
            "_view_module": "@jupyter-widgets/controls",
            "_view_module_version": "1.5.0",
            "_view_name": "HBoxView",
            "box_style": "",
            "children": [
              "IPY_MODEL_cf5cfe6ca9a04682891c44f1e0c5358d",
              "IPY_MODEL_55fb2fe2ff1f4c9e92f6c9bbd3881bd5",
              "IPY_MODEL_323a87288892409ea6fa979e7c8add73"
            ],
            "layout": "IPY_MODEL_7761c2026f5e42fc9c021aac180401c6"
          }
        },
        "cf5cfe6ca9a04682891c44f1e0c5358d": {
          "model_module": "@jupyter-widgets/controls",
          "model_name": "HTMLModel",
          "model_module_version": "1.5.0",
          "state": {
            "_dom_classes": [],
            "_model_module": "@jupyter-widgets/controls",
            "_model_module_version": "1.5.0",
            "_model_name": "HTMLModel",
            "_view_count": null,
            "_view_module": "@jupyter-widgets/controls",
            "_view_module_version": "1.5.0",
            "_view_name": "HTMLView",
            "description": "",
            "description_tooltip": null,
            "layout": "IPY_MODEL_c83e22a3d22b4278b7b9a21c4b3e6b74",
            "placeholder": "​",
            "style": "IPY_MODEL_38b1028e23a7440fbb287b51527bdf98",
            "value": "Loading checkpoint shards: 100%"
          }
        },
        "55fb2fe2ff1f4c9e92f6c9bbd3881bd5": {
          "model_module": "@jupyter-widgets/controls",
          "model_name": "FloatProgressModel",
          "model_module_version": "1.5.0",
          "state": {
            "_dom_classes": [],
            "_model_module": "@jupyter-widgets/controls",
            "_model_module_version": "1.5.0",
            "_model_name": "FloatProgressModel",
            "_view_count": null,
            "_view_module": "@jupyter-widgets/controls",
            "_view_module_version": "1.5.0",
            "_view_name": "ProgressView",
            "bar_style": "success",
            "description": "",
            "description_tooltip": null,
            "layout": "IPY_MODEL_b0598d5d8c214b14a6a6c06b9e0db4c2",
            "max": 3,
            "min": 0,
            "orientation": "horizontal",
            "style": "IPY_MODEL_76a914de52334a6e826b5056cbeae348",
            "value": 3
          }
        },
        "323a87288892409ea6fa979e7c8add73": {
          "model_module": "@jupyter-widgets/controls",
          "model_name": "HTMLModel",
          "model_module_version": "1.5.0",
          "state": {
            "_dom_classes": [],
            "_model_module": "@jupyter-widgets/controls",
            "_model_module_version": "1.5.0",
            "_model_name": "HTMLModel",
            "_view_count": null,
            "_view_module": "@jupyter-widgets/controls",
            "_view_module_version": "1.5.0",
            "_view_name": "HTMLView",
            "description": "",
            "description_tooltip": null,
            "layout": "IPY_MODEL_cd44f4fec8664c668221ad40d41743cc",
            "placeholder": "​",
            "style": "IPY_MODEL_b2fa0d4e9dd548099cefe8a105310364",
            "value": " 3/3 [00:01&lt;00:00,  2.29it/s]"
          }
        },
        "7761c2026f5e42fc9c021aac180401c6": {
          "model_module": "@jupyter-widgets/base",
          "model_name": "LayoutModel",
          "model_module_version": "1.2.0",
          "state": {
            "_model_module": "@jupyter-widgets/base",
            "_model_module_version": "1.2.0",
            "_model_name": "LayoutModel",
            "_view_count": null,
            "_view_module": "@jupyter-widgets/base",
            "_view_module_version": "1.2.0",
            "_view_name": "LayoutView",
            "align_content": null,
            "align_items": null,
            "align_self": null,
            "border": null,
            "bottom": null,
            "display": null,
            "flex": null,
            "flex_flow": null,
            "grid_area": null,
            "grid_auto_columns": null,
            "grid_auto_flow": null,
            "grid_auto_rows": null,
            "grid_column": null,
            "grid_gap": null,
            "grid_row": null,
            "grid_template_areas": null,
            "grid_template_columns": null,
            "grid_template_rows": null,
            "height": null,
            "justify_content": null,
            "justify_items": null,
            "left": null,
            "margin": null,
            "max_height": null,
            "max_width": null,
            "min_height": null,
            "min_width": null,
            "object_fit": null,
            "object_position": null,
            "order": null,
            "overflow": null,
            "overflow_x": null,
            "overflow_y": null,
            "padding": null,
            "right": null,
            "top": null,
            "visibility": null,
            "width": null
          }
        },
        "c83e22a3d22b4278b7b9a21c4b3e6b74": {
          "model_module": "@jupyter-widgets/base",
          "model_name": "LayoutModel",
          "model_module_version": "1.2.0",
          "state": {
            "_model_module": "@jupyter-widgets/base",
            "_model_module_version": "1.2.0",
            "_model_name": "LayoutModel",
            "_view_count": null,
            "_view_module": "@jupyter-widgets/base",
            "_view_module_version": "1.2.0",
            "_view_name": "LayoutView",
            "align_content": null,
            "align_items": null,
            "align_self": null,
            "border": null,
            "bottom": null,
            "display": null,
            "flex": null,
            "flex_flow": null,
            "grid_area": null,
            "grid_auto_columns": null,
            "grid_auto_flow": null,
            "grid_auto_rows": null,
            "grid_column": null,
            "grid_gap": null,
            "grid_row": null,
            "grid_template_areas": null,
            "grid_template_columns": null,
            "grid_template_rows": null,
            "height": null,
            "justify_content": null,
            "justify_items": null,
            "left": null,
            "margin": null,
            "max_height": null,
            "max_width": null,
            "min_height": null,
            "min_width": null,
            "object_fit": null,
            "object_position": null,
            "order": null,
            "overflow": null,
            "overflow_x": null,
            "overflow_y": null,
            "padding": null,
            "right": null,
            "top": null,
            "visibility": null,
            "width": null
          }
        },
        "38b1028e23a7440fbb287b51527bdf98": {
          "model_module": "@jupyter-widgets/controls",
          "model_name": "DescriptionStyleModel",
          "model_module_version": "1.5.0",
          "state": {
            "_model_module": "@jupyter-widgets/controls",
            "_model_module_version": "1.5.0",
            "_model_name": "DescriptionStyleModel",
            "_view_count": null,
            "_view_module": "@jupyter-widgets/base",
            "_view_module_version": "1.2.0",
            "_view_name": "StyleView",
            "description_width": ""
          }
        },
        "b0598d5d8c214b14a6a6c06b9e0db4c2": {
          "model_module": "@jupyter-widgets/base",
          "model_name": "LayoutModel",
          "model_module_version": "1.2.0",
          "state": {
            "_model_module": "@jupyter-widgets/base",
            "_model_module_version": "1.2.0",
            "_model_name": "LayoutModel",
            "_view_count": null,
            "_view_module": "@jupyter-widgets/base",
            "_view_module_version": "1.2.0",
            "_view_name": "LayoutView",
            "align_content": null,
            "align_items": null,
            "align_self": null,
            "border": null,
            "bottom": null,
            "display": null,
            "flex": null,
            "flex_flow": null,
            "grid_area": null,
            "grid_auto_columns": null,
            "grid_auto_flow": null,
            "grid_auto_rows": null,
            "grid_column": null,
            "grid_gap": null,
            "grid_row": null,
            "grid_template_areas": null,
            "grid_template_columns": null,
            "grid_template_rows": null,
            "height": null,
            "justify_content": null,
            "justify_items": null,
            "left": null,
            "margin": null,
            "max_height": null,
            "max_width": null,
            "min_height": null,
            "min_width": null,
            "object_fit": null,
            "object_position": null,
            "order": null,
            "overflow": null,
            "overflow_x": null,
            "overflow_y": null,
            "padding": null,
            "right": null,
            "top": null,
            "visibility": null,
            "width": null
          }
        },
        "76a914de52334a6e826b5056cbeae348": {
          "model_module": "@jupyter-widgets/controls",
          "model_name": "ProgressStyleModel",
          "model_module_version": "1.5.0",
          "state": {
            "_model_module": "@jupyter-widgets/controls",
            "_model_module_version": "1.5.0",
            "_model_name": "ProgressStyleModel",
            "_view_count": null,
            "_view_module": "@jupyter-widgets/base",
            "_view_module_version": "1.2.0",
            "_view_name": "StyleView",
            "bar_color": null,
            "description_width": ""
          }
        },
        "cd44f4fec8664c668221ad40d41743cc": {
          "model_module": "@jupyter-widgets/base",
          "model_name": "LayoutModel",
          "model_module_version": "1.2.0",
          "state": {
            "_model_module": "@jupyter-widgets/base",
            "_model_module_version": "1.2.0",
            "_model_name": "LayoutModel",
            "_view_count": null,
            "_view_module": "@jupyter-widgets/base",
            "_view_module_version": "1.2.0",
            "_view_name": "LayoutView",
            "align_content": null,
            "align_items": null,
            "align_self": null,
            "border": null,
            "bottom": null,
            "display": null,
            "flex": null,
            "flex_flow": null,
            "grid_area": null,
            "grid_auto_columns": null,
            "grid_auto_flow": null,
            "grid_auto_rows": null,
            "grid_column": null,
            "grid_gap": null,
            "grid_row": null,
            "grid_template_areas": null,
            "grid_template_columns": null,
            "grid_template_rows": null,
            "height": null,
            "justify_content": null,
            "justify_items": null,
            "left": null,
            "margin": null,
            "max_height": null,
            "max_width": null,
            "min_height": null,
            "min_width": null,
            "object_fit": null,
            "object_position": null,
            "order": null,
            "overflow": null,
            "overflow_x": null,
            "overflow_y": null,
            "padding": null,
            "right": null,
            "top": null,
            "visibility": null,
            "width": null
          }
        },
        "b2fa0d4e9dd548099cefe8a105310364": {
          "model_module": "@jupyter-widgets/controls",
          "model_name": "DescriptionStyleModel",
          "model_module_version": "1.5.0",
          "state": {
            "_model_module": "@jupyter-widgets/controls",
            "_model_module_version": "1.5.0",
            "_model_name": "DescriptionStyleModel",
            "_view_count": null,
            "_view_module": "@jupyter-widgets/base",
            "_view_module_version": "1.2.0",
            "_view_name": "StyleView",
            "description_width": ""
          }
        }
      }
    }
  },
  "nbformat": 4,
  "nbformat_minor": 0
}