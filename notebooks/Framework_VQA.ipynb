{
  "cells": [
    {
      "cell_type": "code",
      "source": [
        "!git clone https://github.com/miohana/vqa-llm-framework.git"
      ],
      "metadata": {
        "colab": {
          "base_uri": "https://localhost:8080/"
        },
        "id": "NxW8Nsaqc0Pp",
        "outputId": "96dc0106-da37-458d-d435-f4706ffab1a7"
      },
      "execution_count": 1,
      "outputs": [
        {
          "output_type": "stream",
          "name": "stdout",
          "text": [
            "fatal: destination path 'vqa-llm-framework' already exists and is not an empty directory.\n"
          ]
        }
      ]
    },
    {
      "cell_type": "code",
      "execution_count": null,
      "metadata": {
        "id": "S8p1s1PP7PSy"
      },
      "outputs": [],
      "source": [
        "!pip install langchain openai langchain_openai datasets evaluate transformers -q"
      ]
    },
    {
      "cell_type": "code",
      "source": [
        "from google.colab import userdata"
      ],
      "metadata": {
        "id": "hqPdeXEWwViv"
      },
      "execution_count": 18,
      "outputs": []
    },
    {
      "cell_type": "code",
      "source": [
        "import os\n",
        "os.environ[\"OPENAI_API_KEY\"] = userdata.get('OPENAI_API_KEY')"
      ],
      "metadata": {
        "id": "QYdMzVGNwQlJ"
      },
      "execution_count": 19,
      "outputs": []
    },
    {
      "cell_type": "code",
      "source": [
        "import pandas as pd\n",
        "from datasets import load_dataset\n",
        "\n",
        "class DatasetLoader:\n",
        "    def __init__(self, eval_questions_path, vqa_eval_path):\n",
        "        self.eval_questions_path = eval_questions_path\n",
        "        self.vqa_eval_path = vqa_eval_path\n",
        "\n",
        "    def load_data(self):\n",
        "        self.coco_eval_questions = pd.read_json(self.eval_questions_path).head(5)\n",
        "        self.vqa_eval = pd.read_json(self.vqa_eval_path).head(5)\n",
        "\n",
        "        return self.coco_eval_questions, self.vqa_eval"
      ],
      "metadata": {
        "id": "WI074zMStzV-"
      },
      "execution_count": 40,
      "outputs": []
    },
    {
      "cell_type": "code",
      "source": [
        "from transformers import AutoProcessor, PaliGemmaForConditionalGeneration\n",
        "from PIL import Image\n",
        "import requests\n",
        "import torch\n",
        "\n",
        "class ResponseGenerator:\n",
        "    def __init__(self, model_id=\"google/paligemma-3b-mix-224\"):\n",
        "        self.model = PaliGemmaForConditionalGeneration.from_pretrained(model_id).eval()\n",
        "        self.processor = AutoProcessor.from_pretrained(model_id)\n",
        "\n",
        "    def generate_response(self, question: str, image_url: str):\n",
        "        image = Image.open(requests.get(image_url, stream=True).raw)\n",
        "        model_inputs = self.processor(text=question, images=image, return_tensors=\"pt\")\n",
        "        input_len = model_inputs[\"input_ids\"].shape[-1]\n",
        "\n",
        "        with torch.inference_mode():\n",
        "            generation = self.model.generate(**model_inputs, max_new_tokens=100, do_sample=False)\n",
        "            generation = generation[0][input_len:]\n",
        "            response = self.processor.decode(generation, skip_special_tokens=True)\n",
        "        return response"
      ],
      "metadata": {
        "id": "HwL5uoLDt1dH"
      },
      "execution_count": 38,
      "outputs": []
    },
    {
      "cell_type": "code",
      "source": [
        "from evaluate import load\n",
        "from langchain_openai import OpenAIEmbeddings\n",
        "from scipy.spatial.distance import cosine\n",
        "import numpy as np\n",
        "\n",
        "class MetricEvaluator:\n",
        "    def __init__(self):\n",
        "        self.squad_metric = load(\"squad\")\n",
        "        self.embeddings_model = OpenAIEmbeddings(model=\"text-embedding-ada-002\")\n",
        "\n",
        "    def compute_standard_metrics(self, references, predictions):\n",
        "        results = self.squad_metric.compute(predictions=predictions, references=references)\n",
        "        f1_score = results[\"f1\"]\n",
        "        exact_match = results[\"exact_match\"]\n",
        "        return {\"f1_score\": f1_score, \"exact_match\": exact_match}\n",
        "\n",
        "    def compute_semantic_metrics(self, references, predictions):\n",
        "        similarities = []\n",
        "        for ref, pred in zip(references, predictions):\n",
        "            ref_embedding = self.embeddings_model.embed_query(ref[\"answers\"][0][\"text\"])\n",
        "            pred_embedding = self.embeddings_model.embed_query(pred[\"prediction_text\"])\n",
        "            similarity = 1 - cosine(ref_embedding, pred_embedding)\n",
        "            similarities.append(similarity)\n",
        "        avg_similarity = np.mean(similarities)\n",
        "        return {\"semantic_similarity\": avg_similarity}\n",
        "\n",
        "    def evaluate(self, references, predictions):\n",
        "        standard_metrics = self.compute_standard_metrics(references, predictions)\n",
        "        #semantic_metrics = self.compute_semantic_metrics(references, predictions)\n",
        "        #return {\"standard_metrics\": standard_metrics, \"semantic_metrics\": semantic_metrics}\n",
        "        return {\"standard_metrics\": standard_metrics}\n"
      ],
      "metadata": {
        "id": "qlfxWzSXt3XI"
      },
      "execution_count": 53,
      "outputs": []
    },
    {
      "cell_type": "code",
      "source": [
        "import json\n",
        "import pandas as pd\n",
        "\n",
        "class ResultsReporter:\n",
        "    def __init__(self, results_data, output_file=\"vqa_results.json\"):\n",
        "        self.results_data = results_data\n",
        "        self.output_file = output_file\n",
        "\n",
        "    def save_as_json(self):\n",
        "        with open(self.output_file, \"w\") as json_file:\n",
        "            json.dump(self.results_data, json_file, indent=4)\n",
        "        print(f\"Results saved as JSON in {self.output_file}\")\n",
        "\n",
        "    def save_as_dataframe(self):\n",
        "        df = pd.DataFrame(self.results_data)\n",
        "        return df\n",
        "\n",
        "    def display_results(self):\n",
        "        df = self.save_as_dataframe()\n",
        "        print(\"Results Summary:\")\n",
        "        print(df.head())"
      ],
      "metadata": {
        "id": "soeKjtSQEuhC"
      },
      "execution_count": 62,
      "outputs": []
    },
    {
      "cell_type": "code",
      "source": [
        "def main(eval_questions_path, vqa_eval_path):\n",
        "    loader = DatasetLoader(eval_questions_path, vqa_eval_path)\n",
        "    coco_eval_questions, vqa_eval = loader.load_data()\n",
        "\n",
        "    response_generator = ResponseGenerator(model_id=\"google/paligemma-3b-mix-224\")\n",
        "\n",
        "    predictions = []\n",
        "    references = []\n",
        "    results_data = []\n",
        "\n",
        "    for index, row in vqa_eval.iterrows():\n",
        "        question = row[\"question\"]\n",
        "        reference_answer = row[\"multiple_choice_answer\"]\n",
        "        image_url = row[\"url\"]\n",
        "\n",
        "        response = response_generator.generate_response(question, image_url)\n",
        "\n",
        "        predictions.append({\"id\": str(row[\"id\"]), \"prediction_text\": response})\n",
        "        references.append({\n",
        "            \"id\": str(row[\"id\"]),\n",
        "            \"answers\": [{\"text\": reference_answer, \"answer_start\": 0}]\n",
        "        })\n",
        "\n",
        "    evaluator = MetricEvaluator()\n",
        "    metrics = evaluator.evaluate(references, predictions)\n",
        "\n",
        "    for idx, pred in enumerate(predictions):\n",
        "        result_row = {\n",
        "            \"id\": pred[\"id\"],\n",
        "            \"model_answer\": pred[\"prediction_text\"],\n",
        "            \"model_name\": \"pali_gemma\",\n",
        "            \"f1\": metrics[\"standard_metrics\"][\"f1_score\"],\n",
        "            \"accuracy\": metrics[\"standard_metrics\"][\"exact_match\"]\n",
        "            #\"metric_a\": metrics[\"semantic_metrics\"][\"semantic_similarity\"],\n",
        "            #\"metric_b\": metrics[\"semantic_metrics\"][\"semantic_similarity\"]\n",
        "        }\n",
        "        results_data.append(result_row)\n",
        "\n",
        "    reporter = ResultsReporter(results_data)\n",
        "    reporter.save_as_json()\n",
        "    reporter.display_results()"
      ],
      "metadata": {
        "id": "0hqGpZ0mt6cB"
      },
      "execution_count": 66,
      "outputs": []
    },
    {
      "cell_type": "code",
      "source": [
        "eval_questions_path = \"/content/vqa-llm-framework/data/coco-eval-questions.json\"\n",
        "vqa_eval_path = \"/content/vqa-llm-framework/data/vqa-eval.json\"\n",
        "\n",
        "\n",
        "main(eval_questions_path, vqa_eval_path)"
      ],
      "metadata": {
        "colab": {
          "base_uri": "https://localhost:8080/",
          "height": 373,
          "referenced_widgets": [
            "54b167325d8d441f94af02160f3a72fd",
            "b2fdffa4ed024619a4cf19aa0939eac5",
            "343da99ede4140d3817a82e4a119003a",
            "b9bf0156abc04a47a52c23fbebb0a56d",
            "5a3019ac0055490688a40ca3342f13a1",
            "c8377797f9e64664bcd988aacad8debd",
            "50d711144d95485d9677fb1219b633cd",
            "03455420835e4a118340fde2b6ce84af",
            "30927eb8e00e4006b67711157ef67ce8",
            "ecedbb1d94db4e66a305738aa5c0b456",
            "f9c470f53634407b8bb871447bc2249e"
          ]
        },
        "id": "dlVRSoOxt8DB",
        "outputId": "4e66c7dc-21f5-49ec-fc81-e4e5e83ea6fa"
      },
      "execution_count": 67,
      "outputs": [
        {
          "output_type": "stream",
          "name": "stderr",
          "text": [
            "/usr/local/lib/python3.10/dist-packages/transformers/models/paligemma/configuration_paligemma.py:137: FutureWarning: The `vocab_size` attribute is deprecated and will be removed in v4.44, Please use `text_config.vocab_size` instead.\n",
            "  warnings.warn(\n"
          ]
        },
        {
          "output_type": "display_data",
          "data": {
            "text/plain": [
              "Loading checkpoint shards:   0%|          | 0/3 [00:00<?, ?it/s]"
            ],
            "application/vnd.jupyter.widget-view+json": {
              "version_major": 2,
              "version_minor": 0,
              "model_id": "54b167325d8d441f94af02160f3a72fd"
            }
          },
          "metadata": {}
        },
        {
          "output_type": "stream",
          "name": "stdout",
          "text": [
            "6\n",
            "yes\n",
            "brown\n",
            "yes\n",
            "yes\n",
            "[{'id': '293832', 'answers': [{'text': '5', 'answer_start': 0}]}, {'id': '129592', 'answers': [{'text': 'yes', 'answer_start': 0}]}, {'id': '13729', 'answers': [{'text': 'brown', 'answer_start': 0}]}, {'id': '379086', 'answers': [{'text': 'yes', 'answer_start': 0}]}, {'id': '96618', 'answers': [{'text': 'yes', 'answer_start': 0}]}]\n",
            "[{'id': '293832', 'prediction_text': '6'}, {'id': '129592', 'prediction_text': 'yes'}, {'id': '13729', 'prediction_text': 'brown'}, {'id': '379086', 'prediction_text': 'yes'}, {'id': '96618', 'prediction_text': 'yes'}]\n",
            "Results saved as JSON in vqa_results.json\n",
            "Results Summary:\n",
            "       id model_answer  model_name    f1  accuracy\n",
            "0  293832            6  pali_gemma  80.0      80.0\n",
            "1  129592          yes  pali_gemma  80.0      80.0\n",
            "2   13729        brown  pali_gemma  80.0      80.0\n",
            "3  379086          yes  pali_gemma  80.0      80.0\n",
            "4   96618          yes  pali_gemma  80.0      80.0\n"
          ]
        }
      ]
    },
    {
      "cell_type": "code",
      "source": [],
      "metadata": {
        "id": "K5fDI06iEzu-"
      },
      "execution_count": null,
      "outputs": []
    }
  ],
  "metadata": {
    "colab": {
      "provenance": [],
      "gpuType": "A100",
      "machine_shape": "hm"
    },
    "kernelspec": {
      "display_name": "Python 3",
      "name": "python3"
    },
    "language_info": {
      "name": "python"
    },
    "accelerator": "GPU",
    "widgets": {
      "application/vnd.jupyter.widget-state+json": {
        "54b167325d8d441f94af02160f3a72fd": {
          "model_module": "@jupyter-widgets/controls",
          "model_name": "HBoxModel",
          "model_module_version": "1.5.0",
          "state": {
            "_dom_classes": [],
            "_model_module": "@jupyter-widgets/controls",
            "_model_module_version": "1.5.0",
            "_model_name": "HBoxModel",
            "_view_count": null,
            "_view_module": "@jupyter-widgets/controls",
            "_view_module_version": "1.5.0",
            "_view_name": "HBoxView",
            "box_style": "",
            "children": [
              "IPY_MODEL_b2fdffa4ed024619a4cf19aa0939eac5",
              "IPY_MODEL_343da99ede4140d3817a82e4a119003a",
              "IPY_MODEL_b9bf0156abc04a47a52c23fbebb0a56d"
            ],
            "layout": "IPY_MODEL_5a3019ac0055490688a40ca3342f13a1"
          }
        },
        "b2fdffa4ed024619a4cf19aa0939eac5": {
          "model_module": "@jupyter-widgets/controls",
          "model_name": "HTMLModel",
          "model_module_version": "1.5.0",
          "state": {
            "_dom_classes": [],
            "_model_module": "@jupyter-widgets/controls",
            "_model_module_version": "1.5.0",
            "_model_name": "HTMLModel",
            "_view_count": null,
            "_view_module": "@jupyter-widgets/controls",
            "_view_module_version": "1.5.0",
            "_view_name": "HTMLView",
            "description": "",
            "description_tooltip": null,
            "layout": "IPY_MODEL_c8377797f9e64664bcd988aacad8debd",
            "placeholder": "​",
            "style": "IPY_MODEL_50d711144d95485d9677fb1219b633cd",
            "value": "Loading checkpoint shards: 100%"
          }
        },
        "343da99ede4140d3817a82e4a119003a": {
          "model_module": "@jupyter-widgets/controls",
          "model_name": "FloatProgressModel",
          "model_module_version": "1.5.0",
          "state": {
            "_dom_classes": [],
            "_model_module": "@jupyter-widgets/controls",
            "_model_module_version": "1.5.0",
            "_model_name": "FloatProgressModel",
            "_view_count": null,
            "_view_module": "@jupyter-widgets/controls",
            "_view_module_version": "1.5.0",
            "_view_name": "ProgressView",
            "bar_style": "success",
            "description": "",
            "description_tooltip": null,
            "layout": "IPY_MODEL_03455420835e4a118340fde2b6ce84af",
            "max": 3,
            "min": 0,
            "orientation": "horizontal",
            "style": "IPY_MODEL_30927eb8e00e4006b67711157ef67ce8",
            "value": 3
          }
        },
        "b9bf0156abc04a47a52c23fbebb0a56d": {
          "model_module": "@jupyter-widgets/controls",
          "model_name": "HTMLModel",
          "model_module_version": "1.5.0",
          "state": {
            "_dom_classes": [],
            "_model_module": "@jupyter-widgets/controls",
            "_model_module_version": "1.5.0",
            "_model_name": "HTMLModel",
            "_view_count": null,
            "_view_module": "@jupyter-widgets/controls",
            "_view_module_version": "1.5.0",
            "_view_name": "HTMLView",
            "description": "",
            "description_tooltip": null,
            "layout": "IPY_MODEL_ecedbb1d94db4e66a305738aa5c0b456",
            "placeholder": "​",
            "style": "IPY_MODEL_f9c470f53634407b8bb871447bc2249e",
            "value": " 3/3 [00:01&lt;00:00,  2.30it/s]"
          }
        },
        "5a3019ac0055490688a40ca3342f13a1": {
          "model_module": "@jupyter-widgets/base",
          "model_name": "LayoutModel",
          "model_module_version": "1.2.0",
          "state": {
            "_model_module": "@jupyter-widgets/base",
            "_model_module_version": "1.2.0",
            "_model_name": "LayoutModel",
            "_view_count": null,
            "_view_module": "@jupyter-widgets/base",
            "_view_module_version": "1.2.0",
            "_view_name": "LayoutView",
            "align_content": null,
            "align_items": null,
            "align_self": null,
            "border": null,
            "bottom": null,
            "display": null,
            "flex": null,
            "flex_flow": null,
            "grid_area": null,
            "grid_auto_columns": null,
            "grid_auto_flow": null,
            "grid_auto_rows": null,
            "grid_column": null,
            "grid_gap": null,
            "grid_row": null,
            "grid_template_areas": null,
            "grid_template_columns": null,
            "grid_template_rows": null,
            "height": null,
            "justify_content": null,
            "justify_items": null,
            "left": null,
            "margin": null,
            "max_height": null,
            "max_width": null,
            "min_height": null,
            "min_width": null,
            "object_fit": null,
            "object_position": null,
            "order": null,
            "overflow": null,
            "overflow_x": null,
            "overflow_y": null,
            "padding": null,
            "right": null,
            "top": null,
            "visibility": null,
            "width": null
          }
        },
        "c8377797f9e64664bcd988aacad8debd": {
          "model_module": "@jupyter-widgets/base",
          "model_name": "LayoutModel",
          "model_module_version": "1.2.0",
          "state": {
            "_model_module": "@jupyter-widgets/base",
            "_model_module_version": "1.2.0",
            "_model_name": "LayoutModel",
            "_view_count": null,
            "_view_module": "@jupyter-widgets/base",
            "_view_module_version": "1.2.0",
            "_view_name": "LayoutView",
            "align_content": null,
            "align_items": null,
            "align_self": null,
            "border": null,
            "bottom": null,
            "display": null,
            "flex": null,
            "flex_flow": null,
            "grid_area": null,
            "grid_auto_columns": null,
            "grid_auto_flow": null,
            "grid_auto_rows": null,
            "grid_column": null,
            "grid_gap": null,
            "grid_row": null,
            "grid_template_areas": null,
            "grid_template_columns": null,
            "grid_template_rows": null,
            "height": null,
            "justify_content": null,
            "justify_items": null,
            "left": null,
            "margin": null,
            "max_height": null,
            "max_width": null,
            "min_height": null,
            "min_width": null,
            "object_fit": null,
            "object_position": null,
            "order": null,
            "overflow": null,
            "overflow_x": null,
            "overflow_y": null,
            "padding": null,
            "right": null,
            "top": null,
            "visibility": null,
            "width": null
          }
        },
        "50d711144d95485d9677fb1219b633cd": {
          "model_module": "@jupyter-widgets/controls",
          "model_name": "DescriptionStyleModel",
          "model_module_version": "1.5.0",
          "state": {
            "_model_module": "@jupyter-widgets/controls",
            "_model_module_version": "1.5.0",
            "_model_name": "DescriptionStyleModel",
            "_view_count": null,
            "_view_module": "@jupyter-widgets/base",
            "_view_module_version": "1.2.0",
            "_view_name": "StyleView",
            "description_width": ""
          }
        },
        "03455420835e4a118340fde2b6ce84af": {
          "model_module": "@jupyter-widgets/base",
          "model_name": "LayoutModel",
          "model_module_version": "1.2.0",
          "state": {
            "_model_module": "@jupyter-widgets/base",
            "_model_module_version": "1.2.0",
            "_model_name": "LayoutModel",
            "_view_count": null,
            "_view_module": "@jupyter-widgets/base",
            "_view_module_version": "1.2.0",
            "_view_name": "LayoutView",
            "align_content": null,
            "align_items": null,
            "align_self": null,
            "border": null,
            "bottom": null,
            "display": null,
            "flex": null,
            "flex_flow": null,
            "grid_area": null,
            "grid_auto_columns": null,
            "grid_auto_flow": null,
            "grid_auto_rows": null,
            "grid_column": null,
            "grid_gap": null,
            "grid_row": null,
            "grid_template_areas": null,
            "grid_template_columns": null,
            "grid_template_rows": null,
            "height": null,
            "justify_content": null,
            "justify_items": null,
            "left": null,
            "margin": null,
            "max_height": null,
            "max_width": null,
            "min_height": null,
            "min_width": null,
            "object_fit": null,
            "object_position": null,
            "order": null,
            "overflow": null,
            "overflow_x": null,
            "overflow_y": null,
            "padding": null,
            "right": null,
            "top": null,
            "visibility": null,
            "width": null
          }
        },
        "30927eb8e00e4006b67711157ef67ce8": {
          "model_module": "@jupyter-widgets/controls",
          "model_name": "ProgressStyleModel",
          "model_module_version": "1.5.0",
          "state": {
            "_model_module": "@jupyter-widgets/controls",
            "_model_module_version": "1.5.0",
            "_model_name": "ProgressStyleModel",
            "_view_count": null,
            "_view_module": "@jupyter-widgets/base",
            "_view_module_version": "1.2.0",
            "_view_name": "StyleView",
            "bar_color": null,
            "description_width": ""
          }
        },
        "ecedbb1d94db4e66a305738aa5c0b456": {
          "model_module": "@jupyter-widgets/base",
          "model_name": "LayoutModel",
          "model_module_version": "1.2.0",
          "state": {
            "_model_module": "@jupyter-widgets/base",
            "_model_module_version": "1.2.0",
            "_model_name": "LayoutModel",
            "_view_count": null,
            "_view_module": "@jupyter-widgets/base",
            "_view_module_version": "1.2.0",
            "_view_name": "LayoutView",
            "align_content": null,
            "align_items": null,
            "align_self": null,
            "border": null,
            "bottom": null,
            "display": null,
            "flex": null,
            "flex_flow": null,
            "grid_area": null,
            "grid_auto_columns": null,
            "grid_auto_flow": null,
            "grid_auto_rows": null,
            "grid_column": null,
            "grid_gap": null,
            "grid_row": null,
            "grid_template_areas": null,
            "grid_template_columns": null,
            "grid_template_rows": null,
            "height": null,
            "justify_content": null,
            "justify_items": null,
            "left": null,
            "margin": null,
            "max_height": null,
            "max_width": null,
            "min_height": null,
            "min_width": null,
            "object_fit": null,
            "object_position": null,
            "order": null,
            "overflow": null,
            "overflow_x": null,
            "overflow_y": null,
            "padding": null,
            "right": null,
            "top": null,
            "visibility": null,
            "width": null
          }
        },
        "f9c470f53634407b8bb871447bc2249e": {
          "model_module": "@jupyter-widgets/controls",
          "model_name": "DescriptionStyleModel",
          "model_module_version": "1.5.0",
          "state": {
            "_model_module": "@jupyter-widgets/controls",
            "_model_module_version": "1.5.0",
            "_model_name": "DescriptionStyleModel",
            "_view_count": null,
            "_view_module": "@jupyter-widgets/base",
            "_view_module_version": "1.2.0",
            "_view_name": "StyleView",
            "description_width": ""
          }
        }
      }
    }
  },
  "nbformat": 4,
  "nbformat_minor": 0
}